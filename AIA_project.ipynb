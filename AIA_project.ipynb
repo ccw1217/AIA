{
 "cells": [
  {
   "cell_type": "code",
   "execution_count": 291,
   "metadata": {},
   "outputs": [],
   "source": [
    "import numpy as np\n",
    "import pandas as pd \n",
    "import matplotlib.pyplot as plt\n",
    "from mpl_toolkits.mplot3d import Axes3D\n",
    "from sklearn.svm import SVC\n",
    "from sklearn.model_selection import train_test_split"
   ]
  },
  {
   "cell_type": "markdown",
   "metadata": {},
   "source": [
    "# 讀取資料"
   ]
  },
  {
   "cell_type": "code",
   "execution_count": 292,
   "metadata": {},
   "outputs": [],
   "source": [
    "#讀取csv檔\n",
    "data = np.loadtxt(open(\"D:\\\\AIA\\\\train.csv\", encoding = 'utf8'), skiprows = 1, dtype = np.float, delimiter = ',', usecols = [1, 2, 3, 4, 6])"
   ]
  },
  {
   "cell_type": "markdown",
   "metadata": {},
   "source": [
    "# 資料的分析以及創建"
   ]
  },
  {
   "cell_type": "code",
   "execution_count": 293,
   "metadata": {},
   "outputs": [],
   "source": [
    "#建立自己需要的dictionary\n",
    "data_dict = {\"花萼長度\":[data[i][0] for i in range(123)],\n",
    "             \"花萼寬度\":[data[i][1] for i in range(123)],\n",
    "             \"花瓣長度\":[data[i][2] for i in range(123)],\n",
    "             \"花瓣寬度\":[data[i][3] for i in range(123)],\n",
    "             \"花朵種類\":[data[i][4] for i in range(123)],\n",
    "             \"花瓣面積\":[mul[i] for i in range(123)],\n",
    "             \"花萼面積\":[mulf[i] for i in range(123)]}\n",
    "\n",
    "#創建data提供以外的feature\n",
    "\n",
    "#花瓣面積\n",
    "mul = np.array([])\n",
    "for i in range (123):\n",
    "    mul1 = (data_dict[\"花瓣長度\"][i]*data_dict[\"花瓣寬度\"][i])\n",
    "    mul = np.append(mul,mul1)\n",
    "\n",
    "#花萼面積\n",
    "mulf = np.array([])\n",
    "for i in range (123):\n",
    "    mulf1 = (data_dict[\"花萼長度\"][i]*data_dict[\"花萼寬度\"][i])\n",
    "    mulf = np.append(mulf,mulf1)\n",
    "\n"
   ]
  },
  {
   "cell_type": "markdown",
   "metadata": {},
   "source": [
    "經過觀察，花瓣面積可能會是一個不錯的Feature，因此創造了花瓣面積這項feature來做之後的測試"
   ]
  },
  {
   "cell_type": "code",
   "execution_count": 294,
   "metadata": {},
   "outputs": [
    {
     "data": {
      "text/html": [
       "<div>\n",
       "<style scoped>\n",
       "    .dataframe tbody tr th:only-of-type {\n",
       "        vertical-align: middle;\n",
       "    }\n",
       "\n",
       "    .dataframe tbody tr th {\n",
       "        vertical-align: top;\n",
       "    }\n",
       "\n",
       "    .dataframe thead th {\n",
       "        text-align: right;\n",
       "    }\n",
       "</style>\n",
       "<table border=\"1\" class=\"dataframe\">\n",
       "  <thead>\n",
       "    <tr style=\"text-align: right;\">\n",
       "      <th></th>\n",
       "      <th>花朵種類</th>\n",
       "      <th>花瓣寬度</th>\n",
       "      <th>花瓣長度</th>\n",
       "      <th>花瓣面積</th>\n",
       "      <th>花萼寬度</th>\n",
       "      <th>花萼長度</th>\n",
       "      <th>花萼面積</th>\n",
       "    </tr>\n",
       "  </thead>\n",
       "  <tbody>\n",
       "    <tr>\n",
       "      <th>0</th>\n",
       "      <td>1.0</td>\n",
       "      <td>0.2</td>\n",
       "      <td>1.5</td>\n",
       "      <td>0.30</td>\n",
       "      <td>3.7</td>\n",
       "      <td>5.4</td>\n",
       "      <td>19.98</td>\n",
       "    </tr>\n",
       "    <tr>\n",
       "      <th>1</th>\n",
       "      <td>1.0</td>\n",
       "      <td>0.2</td>\n",
       "      <td>1.6</td>\n",
       "      <td>0.32</td>\n",
       "      <td>3.4</td>\n",
       "      <td>4.8</td>\n",
       "      <td>16.32</td>\n",
       "    </tr>\n",
       "    <tr>\n",
       "      <th>2</th>\n",
       "      <td>1.0</td>\n",
       "      <td>0.1</td>\n",
       "      <td>1.4</td>\n",
       "      <td>0.14</td>\n",
       "      <td>3.0</td>\n",
       "      <td>4.8</td>\n",
       "      <td>14.40</td>\n",
       "    </tr>\n",
       "    <tr>\n",
       "      <th>3</th>\n",
       "      <td>1.0</td>\n",
       "      <td>0.1</td>\n",
       "      <td>1.1</td>\n",
       "      <td>0.11</td>\n",
       "      <td>3.0</td>\n",
       "      <td>4.3</td>\n",
       "      <td>12.90</td>\n",
       "    </tr>\n",
       "    <tr>\n",
       "      <th>4</th>\n",
       "      <td>1.0</td>\n",
       "      <td>0.2</td>\n",
       "      <td>1.2</td>\n",
       "      <td>0.24</td>\n",
       "      <td>4.0</td>\n",
       "      <td>5.8</td>\n",
       "      <td>23.20</td>\n",
       "    </tr>\n",
       "  </tbody>\n",
       "</table>\n",
       "</div>"
      ],
      "text/plain": [
       "   花朵種類  花瓣寬度  花瓣長度  花瓣面積  花萼寬度  花萼長度   花萼面積\n",
       "0   1.0   0.2   1.5  0.30   3.7   5.4  19.98\n",
       "1   1.0   0.2   1.6  0.32   3.4   4.8  16.32\n",
       "2   1.0   0.1   1.4  0.14   3.0   4.8  14.40\n",
       "3   1.0   0.1   1.1  0.11   3.0   4.3  12.90\n",
       "4   1.0   0.2   1.2  0.24   4.0   5.8  23.20"
      ]
     },
     "execution_count": 294,
     "metadata": {},
     "output_type": "execute_result"
    }
   ],
   "source": [
    "#檢視自己創建的data\n",
    "\n",
    "datashow = pd.DataFrame(data = data_dict)\n",
    "datashow[0:5]\n"
   ]
  },
  {
   "cell_type": "code",
   "execution_count": 295,
   "metadata": {},
   "outputs": [
    {
     "name": "stderr",
     "output_type": "stream",
     "text": [
      "C:\\Users\\ccw12\\Anaconda3\\envs\\tensorflow\\lib\\site-packages\\matplotlib\\font_manager.py:1316: UserWarning: findfont: Font family ['SimHei'] not found. Falling back to DejaVu Sans\n",
      "  (prop.get_family(), self.defaultFamily[fontext]))\n"
     ]
    },
    {
     "data": {
      "image/png": "[encoded data removed]",
      "text/plain": [
       "<matplotlib.figure.Figure at 0x181abddeda0>"
      ]
     },
     "metadata": {},
     "output_type": "display_data"
    },
    {
     "data": {
      "image/png": "[encoded data removed]",
      "text/plain": [
       "<matplotlib.figure.Figure at 0x181acbde550>"
      ]
     },
     "metadata": {},
     "output_type": "display_data"
    }
   ],
   "source": [
    "#將想要觀察的data可視化(二維)\n",
    "\n",
    "color = {1.0:\"r\",2.0:\"g\",3.0:\"b\",4.0:\"y\"}\n",
    "datashow['color'] = datashow['花朵種類'].map(color)\n",
    "datashow.plot.scatter(x =\"花瓣面積\" , y =\"花瓣寬度\", c =datashow[\"color\"])\n",
    "datashow.plot.scatter(x =\"花瓣面積\" , y =\"花瓣長度\", c =datashow[\"color\"])\n",
    "plt.show()\n"
   ]
  },
  {
   "cell_type": "markdown",
   "metadata": {},
   "source": [
    "將資料可視化後發現，在花瓣面積這個維度上(X軸)，花朵的種類已經可以初步的被肉眼區分出來\n"
   ]
  },
  {
   "cell_type": "markdown",
   "metadata": {},
   "source": [
    "可以期待之後的分類測試能得到不錯的效果"
   ]
  },
  {
   "cell_type": "code",
   "execution_count": 296,
   "metadata": {},
   "outputs": [
    {
     "name": "stderr",
     "output_type": "stream",
     "text": [
      "C:\\Users\\ccw12\\Anaconda3\\envs\\tensorflow\\lib\\site-packages\\matplotlib\\font_manager.py:1316: UserWarning: findfont: Font family ['SimHei'] not found. Falling back to DejaVu Sans\n",
      "  (prop.get_family(), self.defaultFamily[fontext]))\n"
     ]
    },
    {
     "data": {
      "image/png": "[encoded data removed]",
      "text/plain": [
       "<matplotlib.figure.Figure at 0x181acc46048>"
      ]
     },
     "metadata": {},
     "output_type": "display_data"
    }
   ],
   "source": [
    "#將想要觀察的data可視化(三維)\n",
    "fig=plt.figure()\n",
    "show1 = fig.add_subplot(111 , projection='3d')\n",
    "\n",
    "x = data_dict[\"花瓣長度\"]\n",
    "y = data_dict[\"花瓣寬度\"]\n",
    "z = data_dict[\"花瓣面積\"]\n",
    "\n",
    "show1.scatter(x,y,z, c=datashow[\"color\"], marker='o')\n",
    "\n",
    "show1.set_xlabel(\"PatalL\")\n",
    "show1.set_ylabel(\"PatelW\")\n",
    "show1.set_zlabel(\"Petal area\")\n",
    "\n",
    "plt.show()"
   ]
  },
  {
   "cell_type": "markdown",
   "metadata": {},
   "source": [
    "將資料點撒在三維空間中再做一次觀察"
   ]
  },
  {
   "cell_type": "code",
   "execution_count": 297,
   "metadata": {},
   "outputs": [],
   "source": [
    "#選定想使用的特徵製成dataset併分割成訓練集和測試集\n",
    "X = datashow[['花瓣寬度','花瓣長度','花瓣面積']]\n",
    "y = datashow['花朵種類']\n",
    "X_train, X_test, y_train, y_test = train_test_split(X, y, test_size = 0.15, random_state=50)"
   ]
  },
  {
   "cell_type": "markdown",
   "metadata": {},
   "source": [
    "將資料的15%做為測試集，其餘的資料當作訓練集"
   ]
  },
  {
   "cell_type": "code",
   "execution_count": 298,
   "metadata": {},
   "outputs": [
    {
     "data": {
      "text/plain": [
       "array([[-1.38559496, -1.55711483, -1.26151007],\n",
       "       [-1.38559496, -1.43959673, -1.25271464],\n",
       "       [ 0.75320839,  0.55821098,  0.58553045],\n",
       "       [-1.38559496, -1.38083768, -1.24831692],\n",
       "       [-0.04884286,  0.49945193, -0.07412688]])"
      ]
     },
     "execution_count": 298,
     "metadata": {},
     "output_type": "execute_result"
    }
   ],
   "source": [
    "#將資料正規化\n",
    "from sklearn.preprocessing import StandardScaler\n",
    "sc = StandardScaler()\n",
    "sc.fit(X_train)\n",
    "X_train_std = sc.transform(X_train)\n",
    "X_test_std = sc.transform(X_test)\n",
    "\n",
    "#檢視正規化後的資料(五筆)\n",
    "X_train_std[0:5]"
   ]
  },
  {
   "cell_type": "markdown",
   "metadata": {},
   "source": [
    "#  預測模型建模"
   ]
  },
  {
   "cell_type": "markdown",
   "metadata": {},
   "source": [
    "利用scikit_learn 所提供的各式預測模型做分類"
   ]
  },
  {
   "cell_type": "code",
   "execution_count": 268,
   "metadata": {},
   "outputs": [
    {
     "name": "stdout",
     "output_type": "stream",
     "text": [
      "SVC Score: 1.0\n"
     ]
    }
   ],
   "source": [
    "svc = SVC(C=1.0, kernel=\"rbf\", probability=True)\n",
    "svc.fit(X_train_std, y_train)\n",
    "print('SVC Score:',svc.score(X_test_std, y_test))\n",
    "\n"
   ]
  },
  {
   "cell_type": "markdown",
   "metadata": {},
   "source": [
    "首先是SVM，可以看到得到了不錯的成果"
   ]
  },
  {
   "cell_type": "code",
   "execution_count": 269,
   "metadata": {},
   "outputs": [
    {
     "name": "stdout",
     "output_type": "stream",
     "text": [
      "[2. 1. 3. 1. 3. 1. 2. 3. 2. 2. 1. 1. 3. 2. 2. 1. 1. 1. 3.]\n",
      "以下為實際答案\n",
      " 44     2.0\n",
      "21     1.0\n",
      "80     3.0\n",
      "16     1.0\n",
      "118    3.0\n",
      "3      1.0\n",
      "61     2.0\n",
      "86     3.0\n",
      "72     2.0\n",
      "54     2.0\n",
      "7      1.0\n",
      "12     1.0\n",
      "83     3.0\n",
      "40     2.0\n",
      "75     2.0\n",
      "39     1.0\n",
      "34     1.0\n",
      "17     1.0\n",
      "88     3.0\n",
      "Name: 花朵種類, dtype: float64\n"
     ]
    }
   ],
   "source": [
    "submission_svc = svc.predict(X_test_std)\n",
    "print(submission_svc)\n",
    "print('以下為實際答案\\n',y_test)"
   ]
  },
  {
   "cell_type": "markdown",
   "metadata": {},
   "source": [
    "將svm得出的結果與實際答案顯示出來做比較"
   ]
  },
  {
   "cell_type": "code",
   "execution_count": 270,
   "metadata": {},
   "outputs": [
    {
     "name": "stdout",
     "output_type": "stream",
     "text": [
      "KNN Score: 1.0\n"
     ]
    }
   ],
   "source": [
    "from sklearn.neighbors import KNeighborsClassifier\n",
    "\n",
    "KNN = KNeighborsClassifier(n_neighbors=3, weights='uniform')\n",
    "KNN.fit(X_train_std, y_train)\n",
    "print('KNN Score:',clf1.score(X_test_std, y_test))"
   ]
  },
  {
   "cell_type": "markdown",
   "metadata": {},
   "source": [
    "在讓我們試試其他的測試模型"
   ]
  },
  {
   "cell_type": "code",
   "execution_count": 271,
   "metadata": {},
   "outputs": [
    {
     "name": "stdout",
     "output_type": "stream",
     "text": [
      "[2. 1. 3. 1. 3. 1. 2. 3. 2. 2. 1. 1. 3. 2. 2. 1. 1. 1. 3.]\n",
      "以下為實際答案\n",
      " 44     2.0\n",
      "21     1.0\n",
      "80     3.0\n",
      "16     1.0\n",
      "118    3.0\n",
      "3      1.0\n",
      "61     2.0\n",
      "86     3.0\n",
      "72     2.0\n",
      "54     2.0\n",
      "7      1.0\n",
      "12     1.0\n",
      "83     3.0\n",
      "40     2.0\n",
      "75     2.0\n",
      "39     1.0\n",
      "34     1.0\n",
      "17     1.0\n",
      "88     3.0\n",
      "Name: 花朵種類, dtype: float64\n"
     ]
    }
   ],
   "source": [
    "submission_KNN = KNN.predict(X_test_std)\n",
    "print(submission_KNN)\n",
    "print('以下為實際答案\\n',y_test)"
   ]
  },
  {
   "cell_type": "markdown",
   "metadata": {},
   "source": [
    "可以看到，我們使用KNN後依然能得到不錯的分類成果"
   ]
  },
  {
   "cell_type": "markdown",
   "metadata": {},
   "source": [
    "以此推論，花瓣的面積與長寬確實是一項不錯的分類特徵"
   ]
  },
  {
   "cell_type": "markdown",
   "metadata": {},
   "source": [
    "# 實際對Data做分類"
   ]
  },
  {
   "cell_type": "code",
   "execution_count": 272,
   "metadata": {},
   "outputs": [],
   "source": [
    "data_test = np.loadtxt(open(\"D:\\\\AIA\\\\test.csv\", encoding = 'utf8'), skiprows = 1, dtype = np.float, delimiter = ',', usecols = [1, 2, 3, 4])"
   ]
  },
  {
   "cell_type": "markdown",
   "metadata": {},
   "source": [
    "先將欲分類的csv檔抓進來"
   ]
  },
  {
   "cell_type": "code",
   "execution_count": 273,
   "metadata": {},
   "outputs": [],
   "source": [
    "test_dict = {\"花瓣長度\":[data_test[i][2] for i in range(30)],\n",
    "             \"花瓣寬度\":[data_test[i][3] for i in range(30)],\n",
    "             \"花瓣面積\":[test_mul[i] for i in range(30)]}\n",
    "\n",
    "#創建data提供以外的feature\n",
    "\n",
    "#花瓣面積\n",
    "test_mul = np.array([])\n",
    "for i in range (30):\n",
    "    test_mul1 = (test_dict[\"花瓣長度\"][i]*test_dict[\"花瓣寬度\"][i])\n",
    "    test_mul = np.append(test_mul,test_mul1)\n",
    "    \n"
   ]
  },
  {
   "cell_type": "markdown",
   "metadata": {},
   "source": [
    "同樣的將花瓣面積這一項Feature創建出來"
   ]
  },
  {
   "cell_type": "code",
   "execution_count": 284,
   "metadata": {},
   "outputs": [
    {
     "data": {
      "text/html": [
       "<div>\n",
       "<style scoped>\n",
       "    .dataframe tbody tr th:only-of-type {\n",
       "        vertical-align: middle;\n",
       "    }\n",
       "\n",
       "    .dataframe tbody tr th {\n",
       "        vertical-align: top;\n",
       "    }\n",
       "\n",
       "    .dataframe thead th {\n",
       "        text-align: right;\n",
       "    }\n",
       "</style>\n",
       "<table border=\"1\" class=\"dataframe\">\n",
       "  <thead>\n",
       "    <tr style=\"text-align: right;\">\n",
       "      <th></th>\n",
       "      <th>花瓣寬度</th>\n",
       "      <th>花瓣長度</th>\n",
       "      <th>花瓣面積</th>\n",
       "    </tr>\n",
       "  </thead>\n",
       "  <tbody>\n",
       "    <tr>\n",
       "      <th>0</th>\n",
       "      <td>0.2</td>\n",
       "      <td>1.4</td>\n",
       "      <td>0.28</td>\n",
       "    </tr>\n",
       "    <tr>\n",
       "      <th>1</th>\n",
       "      <td>0.2</td>\n",
       "      <td>1.4</td>\n",
       "      <td>0.28</td>\n",
       "    </tr>\n",
       "    <tr>\n",
       "      <th>2</th>\n",
       "      <td>0.2</td>\n",
       "      <td>1.3</td>\n",
       "      <td>0.26</td>\n",
       "    </tr>\n",
       "    <tr>\n",
       "      <th>3</th>\n",
       "      <td>0.2</td>\n",
       "      <td>1.5</td>\n",
       "      <td>0.30</td>\n",
       "    </tr>\n",
       "    <tr>\n",
       "      <th>4</th>\n",
       "      <td>0.2</td>\n",
       "      <td>1.4</td>\n",
       "      <td>0.28</td>\n",
       "    </tr>\n",
       "  </tbody>\n",
       "</table>\n",
       "</div>"
      ],
      "text/plain": [
       "   花瓣寬度  花瓣長度  花瓣面積\n",
       "0   0.2   1.4  0.28\n",
       "1   0.2   1.4  0.28\n",
       "2   0.2   1.3  0.26\n",
       "3   0.2   1.5  0.30\n",
       "4   0.2   1.4  0.28"
      ]
     },
     "execution_count": 284,
     "metadata": {},
     "output_type": "execute_result"
    }
   ],
   "source": [
    "data_test = pd.DataFrame(data = test_dict)\n",
    "data_test[0:5]"
   ]
  },
  {
   "cell_type": "markdown",
   "metadata": {},
   "source": [
    "將創建出來的資料列出來檢視一下"
   ]
  },
  {
   "cell_type": "code",
   "execution_count": 299,
   "metadata": {},
   "outputs": [
    {
     "data": {
      "text/plain": [
       "array([1., 1., 1., 1., 1., 1., 1., 1., 1., 1., 2., 2., 2., 2., 2., 2., 2.,\n",
       "       2., 2., 2., 3., 3., 3., 3., 3., 3., 2., 3., 3., 3.])"
      ]
     },
     "execution_count": 299,
     "metadata": {},
     "output_type": "execute_result"
    }
   ],
   "source": [
    "from sklearn.preprocessing import StandardScaler\n",
    "sc = StandardScaler()\n",
    "sc.fit(data_test)\n",
    "data_test_std = sc.transform(data_test)\n",
    "predict = svc.predict(data_test_std)\n",
    "predict\n",
    "\n"
   ]
  },
  {
   "cell_type": "markdown",
   "metadata": {},
   "source": [
    "最後實際對資料做分類並將分類結果顯示出來"
   ]
  },
  {
   "cell_type": "markdown",
   "metadata": {},
   "source": [
    "# 資料輸出"
   ]
  },
  {
   "cell_type": "code",
   "execution_count": 300,
   "metadata": {},
   "outputs": [
    {
     "name": "stdout",
     "output_type": "stream",
     "text": [
      "[ 1  2  3  4  5  6  7  8  9 10 11 12 13 14 15 16 17 18 19 20 21 22 23 24\n",
      " 25 26 27 28 29 30]\n",
      "[1. 1. 1. 1. 1. 1. 1. 1. 1. 1. 2. 2. 2. 2. 2. 2. 2. 2. 2. 2. 3. 3. 3. 3.\n",
      " 3. 3. 2. 3. 3. 3.]\n"
     ]
    }
   ],
   "source": [
    "result=[]\n",
    "index=[]\n",
    "for i in range(len(predict)):\n",
    "    index.append(i+1)\n",
    "    result.append(predict[i])\n",
    "index=np.array(index)\n",
    "result=np.array(result)\n",
    "print(index)\n",
    "print(result)\n",
    "np.savetxt('D:\\\\AIA\\\\result.csv', np.column_stack((index,result)), fmt='%d', delimiter = ',',header=('id,type'),comments='')"
   ]
  },
  {
   "cell_type": "markdown",
   "metadata": {},
   "source": [
    "將我們利用svm得出的結果存成csv檔並輸出"
   ]
  },
  {
   "cell_type": "markdown",
   "metadata": {},
   "source": [
    "# 附上kaggle得分"
   ]
  },
  {
   "attachments": {
    "image.png": {
     "image/png": "[encoded data removed]"
    }
   },
   "cell_type": "markdown",
   "metadata": {},
   "source": [
    "![image.png](attachment:image.png)"
   ]
  }
 ],
 "metadata": {
  "kernelspec": {
   "display_name": "Python 3",
   "language": "python",
   "name": "python3"
  },
  "language_info": {
   "codemirror_mode": {
    "name": "ipython",
    "version": 3
   },
   "file_extension": ".py",
   "mimetype": "text/x-python",
   "name": "python",
   "nbconvert_exporter": "python",
   "pygments_lexer": "ipython3",
   "version": "3.5.4"
  }
 },
 "nbformat": 4,
 "nbformat_minor": 2
}
